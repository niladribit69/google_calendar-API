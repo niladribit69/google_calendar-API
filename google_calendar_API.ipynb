{
 "cells": [
  {
   "cell_type": "code",
   "execution_count": 2,
   "metadata": {},
   "outputs": [],
   "source": [
    "from apiclient.discovery import build\n",
    "from google_auth_oauthlib.flow import InstalledAppFlow"
   ]
  },
  {
   "cell_type": "code",
   "execution_count": 3,
   "metadata": {},
   "outputs": [],
   "source": [
    "scopes = ['https://www.googleapis.com/auth/calendar']"
   ]
  },
  {
   "cell_type": "code",
   "execution_count": 4,
   "metadata": {},
   "outputs": [],
   "source": [
    "flow = InstalledAppFlow.from_client_secrets_file(\"client.json\", scopes=scopes)\n"
   ]
  },
  {
   "cell_type": "code",
   "execution_count": 5,
   "metadata": {},
   "outputs": [
    {
     "name": "stdout",
     "output_type": "stream",
     "text": [
      "Please visit this URL to authorize this application: https://accounts.google.com/o/oauth2/auth?response_type=code&client_id=773476256861-qrq20aiu5dp0046t93rarhksqc1o2p77.apps.googleusercontent.com&redirect_uri=urn%3Aietf%3Awg%3Aoauth%3A2.0%3Aoob&scope=https%3A%2F%2Fwww.googleapis.com%2Fauth%2Fcalendar&state=uCJr3GBmCHkewubdYvq5gJBaIfDVd2&prompt=consent&access_type=offline\n",
      "Enter the authorization code: 4/yQHFOYELN_fp-AYWPEPbFsc4cvWkZBP15vF9MQRLJxbRrtGn5EQmbcQ\n"
     ]
    }
   ],
   "source": [
    "credentials = flow.run_console()"
   ]
  },
  {
   "cell_type": "code",
   "execution_count": 6,
   "metadata": {},
   "outputs": [],
   "source": [
    "\n",
    "import pickle"
   ]
  },
  {
   "cell_type": "code",
   "execution_count": 7,
   "metadata": {},
   "outputs": [],
   "source": [
    "pickle.dump(credentials, open(\"token.pkl\", \"wb\"))"
   ]
  },
  {
   "cell_type": "code",
   "execution_count": 8,
   "metadata": {},
   "outputs": [],
   "source": [
    "credentials = pickle.load(open(\"token.pkl\", \"rb\"))"
   ]
  },
  {
   "cell_type": "code",
   "execution_count": 9,
   "metadata": {},
   "outputs": [],
   "source": [
    "service = build(\"calendar\", \"v3\", credentials=credentials)"
   ]
  },
  {
   "cell_type": "code",
   "execution_count": 10,
   "metadata": {},
   "outputs": [],
   "source": [
    "result = service.calendarList().list().execute()"
   ]
  },
  {
   "cell_type": "code",
   "execution_count": 13,
   "metadata": {},
   "outputs": [
    {
     "data": {
      "text/plain": [
       "{'kind': 'calendar#calendarListEntry',\n",
       " 'etag': '\"1496376152769000\"',\n",
       " 'id': 'bitnil155@gmail.com',\n",
       " 'summary': 'bitnil155@gmail.com',\n",
       " 'timeZone': 'Asia/Kolkata',\n",
       " 'colorId': '14',\n",
       " 'backgroundColor': '#9fe1e7',\n",
       " 'foregroundColor': '#000000',\n",
       " 'selected': True,\n",
       " 'accessRole': 'owner',\n",
       " 'defaultReminders': [{'method': 'popup', 'minutes': 30}],\n",
       " 'notificationSettings': {'notifications': [{'type': 'eventCreation',\n",
       "    'method': 'email'},\n",
       "   {'type': 'eventChange', 'method': 'email'},\n",
       "   {'type': 'eventCancellation', 'method': 'email'},\n",
       "   {'type': 'eventResponse', 'method': 'email'}]},\n",
       " 'primary': True,\n",
       " 'conferenceProperties': {'allowedConferenceSolutionTypes': ['eventHangout']}}"
      ]
     },
     "execution_count": 13,
     "metadata": {},
     "output_type": "execute_result"
    }
   ],
   "source": [
    "result['items'][0]"
   ]
  },
  {
   "cell_type": "code",
   "execution_count": 14,
   "metadata": {},
   "outputs": [],
   "source": [
    "calendar_id = result['items'][0]['id']"
   ]
  },
  {
   "cell_type": "code",
   "execution_count": 15,
   "metadata": {},
   "outputs": [],
   "source": [
    "result = service.events().list(calendarId=calendar_id, timeZone=\"Asia/Kolkata\").execute()"
   ]
  },
  {
   "cell_type": "code",
   "execution_count": 16,
   "metadata": {},
   "outputs": [
    {
     "data": {
      "text/plain": [
       "{'kind': 'calendar#event',\n",
       " 'etag': '\"3172187956988000\"',\n",
       " 'id': '106jm70v3d0fm335ubkt338t0b',\n",
       " 'status': 'confirmed',\n",
       " 'htmlLink': 'https://www.google.com/calendar/event?eid=MTA2am03MHYzZDBmbTMzNXVia3QzMzh0MGIgYml0bmlsMTU1QG0&ctz=Asia/Kolkata',\n",
       " 'created': '2020-04-05T13:39:38.000Z',\n",
       " 'updated': '2020-04-05T13:39:38.494Z',\n",
       " 'summary': 'hello',\n",
       " 'creator': {'email': 'bitnil155@gmail.com', 'self': True},\n",
       " 'organizer': {'email': 'bitnil155@gmail.com', 'self': True},\n",
       " 'start': {'dateTime': '2020-04-06T13:00:00+05:30'},\n",
       " 'end': {'dateTime': '2020-04-06T14:00:00+05:30'},\n",
       " 'iCalUID': '106jm70v3d0fm335ubkt338t0b@google.com',\n",
       " 'sequence': 0,\n",
       " 'reminders': {'useDefault': True}}"
      ]
     },
     "execution_count": 16,
     "metadata": {},
     "output_type": "execute_result"
    }
   ],
   "source": [
    "result['items'][0]"
   ]
  },
  {
   "cell_type": "code",
   "execution_count": 17,
   "metadata": {},
   "outputs": [],
   "source": [
    "\n",
    "from datetime import datetime, timedelta"
   ]
  },
  {
   "cell_type": "code",
   "execution_count": 18,
   "metadata": {},
   "outputs": [],
   "source": [
    "start_time = datetime(2019, 5, 12, 19, 30, 0)\n",
    "end_time = start_time + timedelta(hours=4)\n",
    "timezone = 'Asia/Kolkata'"
   ]
  },
  {
   "cell_type": "code",
   "execution_count": 20,
   "metadata": {},
   "outputs": [],
   "source": [
    "event = {\n",
    "  'summary': 'IPL Final 2019',\n",
    "  'location': 'Hyderabad',\n",
    "  'description': 'MI vs TBD',\n",
    "  'start': {\n",
    "    'dateTime': start_time.strftime(\"%Y-%m-%dT%H:%M:%S\"),\n",
    "    'timeZone': timezone,\n",
    "  },\n",
    "  'end': {\n",
    "    'dateTime': end_time.strftime(\"%Y-%m-%dT%H:%M:%S\"),\n",
    "    'timeZone': timezone,\n",
    "  },\n",
    "  'reminders': {\n",
    "    'useDefault': False,\n",
    "    'overrides': [\n",
    "      {'method': 'email', 'minutes': 24 * 60},\n",
    "      {'method': 'popup', 'minutes': 10},\n",
    "    ],\n",
    "  },\n",
    "}"
   ]
  },
  {
   "cell_type": "code",
   "execution_count": 21,
   "metadata": {},
   "outputs": [
    {
     "data": {
      "text/plain": [
       "{'kind': 'calendar#event',\n",
       " 'etag': '\"3172308859441000\"',\n",
       " 'id': 'o1js75dlsb1rrqpbiv31sd7mtk',\n",
       " 'status': 'confirmed',\n",
       " 'htmlLink': 'https://www.google.com/calendar/event?eid=bzFqczc1ZGxzYjFycnFwYml2MzFzZDdtdGsgYml0bmlsMTU1QG0',\n",
       " 'created': '2020-04-06T06:27:09.000Z',\n",
       " 'updated': '2020-04-06T06:27:09.799Z',\n",
       " 'summary': 'IPL Final 2019',\n",
       " 'description': 'MI vs TBD',\n",
       " 'location': 'Hyderabad',\n",
       " 'creator': {'email': 'bitnil155@gmail.com', 'self': True},\n",
       " 'organizer': {'email': 'bitnil155@gmail.com', 'self': True},\n",
       " 'start': {'dateTime': '2019-05-12T19:30:00+05:30',\n",
       "  'timeZone': 'Asia/Kolkata'},\n",
       " 'end': {'dateTime': '2019-05-12T23:30:00+05:30', 'timeZone': 'Asia/Kolkata'},\n",
       " 'iCalUID': 'o1js75dlsb1rrqpbiv31sd7mtk@google.com',\n",
       " 'sequence': 0,\n",
       " 'reminders': {'useDefault': False,\n",
       "  'overrides': [{'method': 'email', 'minutes': 1440},\n",
       "   {'method': 'popup', 'minutes': 10}]}}"
      ]
     },
     "execution_count": 21,
     "metadata": {},
     "output_type": "execute_result"
    }
   ],
   "source": [
    "service.events().insert(calendarId=calendar_id, body=event).execute()"
   ]
  },
  {
   "cell_type": "code",
   "execution_count": 1,
   "metadata": {},
   "outputs": [
    {
     "name": "stdout",
     "output_type": "stream",
     "text": [
      "Requirement already satisfied: datefinder in c:\\users\\kiit\\anaconda3\\lib\\site-packages (0.7.0)\n",
      "Requirement already satisfied: python-dateutil>=2.4.2 in c:\\users\\kiit\\anaconda3\\lib\\site-packages (from datefinder) (2.8.1)\n",
      "Requirement already satisfied: regex>=2017.02.08 in c:\\users\\kiit\\anaconda3\\lib\\site-packages (from datefinder) (2020.4.4)\n",
      "Requirement already satisfied: pytz in c:\\users\\kiit\\anaconda3\\lib\\site-packages (from datefinder) (2019.3)\n",
      "Requirement already satisfied: six>=1.5 in c:\\users\\kiit\\anaconda3\\lib\\site-packages (from python-dateutil>=2.4.2->datefinder) (1.12.0)\n",
      "Note: you may need to restart the kernel to use updated packages.\n"
     ]
    }
   ],
   "source": [
    "pip install datefinder"
   ]
  },
  {
   "cell_type": "code",
   "execution_count": 22,
   "metadata": {},
   "outputs": [],
   "source": [
    "import datefinder"
   ]
  },
  {
   "cell_type": "code",
   "execution_count": null,
   "metadata": {},
   "outputs": [],
   "source": []
  },
  {
   "cell_type": "code",
   "execution_count": 23,
   "metadata": {},
   "outputs": [],
   "source": [
    "\n",
    "def create_event(start_time_str, summary, duration=1, description=None, location=None):\n",
    "    matches = list(datefinder.find_dates(start_time_str))\n",
    "    if len(matches):\n",
    "        start_time = matches[0]\n",
    "        end_time = start_time + timedelta(hours=duration)\n",
    "    \n",
    "    event = {\n",
    "        'summary': summary,\n",
    "        'location': location,\n",
    "        'description': description,\n",
    "        'start': {\n",
    "            'dateTime': start_time.strftime(\"%Y-%m-%dT%H:%M:%S\"),\n",
    "            'timeZone': 'Asia/Kolkata',\n",
    "        },\n",
    "        'end': {\n",
    "            'dateTime': end_time.strftime(\"%Y-%m-%dT%H:%M:%S\"),\n",
    "            'timeZone': 'Asia/Kolkata',\n",
    "        },\n",
    "        'reminders': {\n",
    "            'useDefault': False,\n",
    "            'overrides': [\n",
    "                {'method': 'email', 'minutes': 24 * 60},\n",
    "                {'method': 'popup', 'minutes': 10},\n",
    "            ],\n",
    "        },\n",
    "    }\n",
    "    return service.events().insert(calendarId='primary', body=event).execute()"
   ]
  },
  {
   "cell_type": "code",
   "execution_count": 24,
   "metadata": {},
   "outputs": [],
   "source": [
    "def create_events(start_time_str, summary, duration=1,attendees=None, description=None, location=None):\n",
    "    matches = list(datefinder.find_dates(start_time_str))\n",
    "    if len(matches):\n",
    "        start_time = matches[0]\n",
    "        end_time = start_time + timedelta(hours=duration)\n",
    "                \n",
    "    event = {\n",
    "        'summary': summary,\n",
    "        'location': location,\n",
    "        'description': description,\n",
    "        'start': {\n",
    "            'dateTime': start_time.strftime(\"%Y-%m-%dT%H:%M:%S\"),\n",
    "            'timeZone': timezone,\n",
    "        },\n",
    "        'end': {\n",
    "            'dateTime': end_time.strftime(\"%Y-%m-%dT%H:%M:%S\"),\n",
    "            'timeZone': timezone,\n",
    "        },\n",
    "        'attendees': [\n",
    "        {'email':attendees },\n",
    "    ],\n",
    "        'reminders': {\n",
    "            'useDefault': False,\n",
    "            'overrides': [\n",
    "                {'method': 'email', 'minutes': 24 * 60},\n",
    "                {'method': 'popup', 'minutes': 10},\n",
    "            ],\n",
    "        },\n",
    "    }\n",
    "    return service.events().insert(calendarId='primary', body=event,sendNotifications=True).execute()"
   ]
  },
  {
   "cell_type": "code",
   "execution_count": 22,
   "metadata": {},
   "outputs": [
    {
     "data": {
      "text/plain": [
       "{'kind': 'calendar#event',\n",
       " 'etag': '\"3172215215876000\"',\n",
       " 'id': 'k67an40ea72kgmi2g4g9h64luk',\n",
       " 'status': 'confirmed',\n",
       " 'htmlLink': 'https://www.google.com/calendar/event?eid=azY3YW40MGVhNzJrZ21pMmc0ZzloNjRsdWsgYml0bmlsMTU1QG0',\n",
       " 'created': '2020-04-05T17:26:47.000Z',\n",
       " 'updated': '2020-04-05T17:26:47.974Z',\n",
       " 'summary': 'Meeting codepth ',\n",
       " 'creator': {'email': 'bitnil155@gmail.com', 'self': True},\n",
       " 'organizer': {'email': 'bitnil155@gmail.com', 'self': True},\n",
       " 'start': {'dateTime': '2020-04-06T21:00:00+05:30',\n",
       "  'timeZone': 'Asia/Kolkata'},\n",
       " 'end': {'dateTime': '2020-04-06T21:30:00+05:30', 'timeZone': 'Asia/Kolkata'},\n",
       " 'iCalUID': 'k67an40ea72kgmi2g4g9h64luk@google.com',\n",
       " 'sequence': 0,\n",
       " 'attendees': [{'email': 'bitnil155@gmail.com',\n",
       "   'organizer': True,\n",
       "   'self': True,\n",
       "   'responseStatus': 'needsAction'}],\n",
       " 'reminders': {'useDefault': False,\n",
       "  'overrides': [{'method': 'email', 'minutes': 1440},\n",
       "   {'method': 'popup', 'minutes': 10}]}}"
      ]
     },
     "execution_count": 22,
     "metadata": {},
     "output_type": "execute_result"
    }
   ],
   "source": [
    "create_events('6 April 9.01pm', 'Meeting codepth ',0.5,'bitnil155@gmail.com')"
   ]
  },
  {
   "cell_type": "code",
   "execution_count": 25,
   "metadata": {},
   "outputs": [
    {
     "name": "stdout",
     "output_type": "stream",
     "text": [
      "mail sent to\n",
      "bitnil5@gmail.com\n",
      "mail sent to\n",
      "1729040@kiit.ac.in\n",
      "mail sent to\n",
      "hag@gmail.com\n"
     ]
    }
   ],
   "source": [
    "li=['bitnil5@gmail.com','1729040@kiit.ac.in','hag@gmail.com']\n",
    "for i in li:\n",
    "    \n",
    "    create_events('7 April 11.55am', 'Meeting codepth ',0.5,i)\n",
    "    print('mail sent to')\n",
    "    print(i)"
   ]
  },
  {
   "cell_type": "code",
   "execution_count": null,
   "metadata": {},
   "outputs": [],
   "source": []
  }
 ],
 "metadata": {
  "kernelspec": {
   "display_name": "Python 3",
   "language": "python",
   "name": "python3"
  },
  "language_info": {
   "codemirror_mode": {
    "name": "ipython",
    "version": 3
   },
   "file_extension": ".py",
   "mimetype": "text/x-python",
   "name": "python",
   "nbconvert_exporter": "python",
   "pygments_lexer": "ipython3",
   "version": "3.7.4"
  }
 },
 "nbformat": 4,
 "nbformat_minor": 2
}
